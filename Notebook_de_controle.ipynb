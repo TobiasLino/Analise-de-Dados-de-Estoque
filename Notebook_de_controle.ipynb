{
 "cells": [
  {
   "cell_type": "markdown",
   "metadata": {},
   "source": [
    "## Controle de Dados - Estoque Obra Social\n",
    "### Definindo alguns modelos de visualização"
   ]
  },
  {
   "cell_type": "code",
   "execution_count": 1,
   "metadata": {},
   "outputs": [],
   "source": [
    "import matplotlib.pyplot as plt\n",
    "import os\n",
    "import pandas as pd\n",
    "import seaborn as sb\n",
    "low_memory=False\n",
    "%matplotlib inline\n",
    "\n",
    "df = pd.read_csv(r'C:\\\\Users\\\\tobli\\\\OneDrive\\\\Área de Trabalho\\\\Obra_Social_Estoque\\\\Planilhas_Obra_Social\\Planilha_Estoque.csv',delimiter=',', error_bad_lines=False)\n",
    "# Busca o Arquivo"
   ]
  },
  {
   "cell_type": "markdown",
   "metadata": {},
   "source": [
    "#### Diretório"
   ]
  },
  {
   "cell_type": "code",
   "execution_count": 2,
   "metadata": {},
   "outputs": [
    {
     "data": {
      "text/plain": [
       "'C:\\\\Users\\\\tobli\\\\OneDrive\\\\Área de Trabalho\\\\Obra_Social_Estoque\\\\Planilhas_Obra_Social'"
      ]
     },
     "execution_count": 2,
     "metadata": {},
     "output_type": "execute_result"
    }
   ],
   "source": [
    "# Caminho do Arquivo\n",
    "os.getcwd()"
   ]
  },
  {
   "cell_type": "code",
   "execution_count": 3,
   "metadata": {},
   "outputs": [
    {
     "data": {
      "text/plain": [
       "['.ipynb_checkpoints',\n",
       " 'Notebook_de_controle.ipynb',\n",
       " 'Planilha_Estoque.csv',\n",
       " 'Planilha_estoque_obra_social.xlsx',\n",
       " 'Planilha_estoque_obra_social_con_final_corrigido.csv',\n",
       " 'Planilha_estoque_obra_social_con_final_corrigido.xlsx']"
      ]
     },
     "execution_count": 3,
     "metadata": {},
     "output_type": "execute_result"
    }
   ],
   "source": [
    "# Arquivos da Pasta\n",
    "os.listdir()"
   ]
  },
  {
   "cell_type": "markdown",
   "metadata": {},
   "source": [
    "#### Tamanho de linhas e colunas"
   ]
  },
  {
   "cell_type": "code",
   "execution_count": 4,
   "metadata": {},
   "outputs": [
    {
     "data": {
      "text/plain": [
       "(1486, 10)"
      ]
     },
     "execution_count": 4,
     "metadata": {},
     "output_type": "execute_result"
    }
   ],
   "source": [
    "df.shape"
   ]
  },
  {
   "cell_type": "markdown",
   "metadata": {},
   "source": [
    "#### Informações adicionais sobre colunas "
   ]
  },
  {
   "cell_type": "code",
   "execution_count": 5,
   "metadata": {},
   "outputs": [
    {
     "name": "stdout",
     "output_type": "stream",
     "text": [
      "<class 'pandas.core.frame.DataFrame'>\n",
      "RangeIndex: 1486 entries, 0 to 1485\n",
      "Data columns (total 10 columns):\n",
      "N do Patrimonio        1389 non-null float64\n",
      "Descricao do Bem       1482 non-null object\n",
      "Quantidade             1467 non-null float64\n",
      "Localizacao            1482 non-null object\n",
      "N Nota Fiscal          888 non-null object\n",
      "Data de Aquisicao      1110 non-null object\n",
      "Data  de  Saida        7 non-null object\n",
      "Fornecedor             993 non-null object\n",
      "Valor R$               1483 non-null object\n",
      "Grau de Depreciacao    1482 non-null object\n",
      "dtypes: float64(2), object(8)\n",
      "memory usage: 116.2+ KB\n"
     ]
    }
   ],
   "source": [
    "df.info()"
   ]
  },
  {
   "cell_type": "markdown",
   "metadata": {},
   "source": [
    "#### Exemplo de 10 itens da tabela"
   ]
  },
  {
   "cell_type": "code",
   "execution_count": 5,
   "metadata": {},
   "outputs": [
    {
     "data": {
      "text/html": [
       "<div>\n",
       "<style scoped>\n",
       "    .dataframe tbody tr th:only-of-type {\n",
       "        vertical-align: middle;\n",
       "    }\n",
       "\n",
       "    .dataframe tbody tr th {\n",
       "        vertical-align: top;\n",
       "    }\n",
       "\n",
       "    .dataframe thead th {\n",
       "        text-align: right;\n",
       "    }\n",
       "</style>\n",
       "<table border=\"1\" class=\"dataframe\">\n",
       "  <thead>\n",
       "    <tr style=\"text-align: right;\">\n",
       "      <th></th>\n",
       "      <th>Nº do Patrimônio</th>\n",
       "      <th>Descrição do Bem</th>\n",
       "      <th>Quantidade</th>\n",
       "      <th>Localização</th>\n",
       "      <th>Nº Nota Fiscal</th>\n",
       "      <th>Data de Aquisição</th>\n",
       "      <th>Data  de  Saída</th>\n",
       "      <th>Fornecedor</th>\n",
       "      <th>Valor R$</th>\n",
       "      <th>Grau de Depreciação</th>\n",
       "    </tr>\n",
       "  </thead>\n",
       "  <tbody>\n",
       "    <tr>\n",
       "      <th>1421</th>\n",
       "      <td>1371.0</td>\n",
       "      <td>Cadeira Plastica Marrom L 460 x A 400\\ Encosto...</td>\n",
       "      <td>1.0</td>\n",
       "      <td>Hall Lanchonete</td>\n",
       "      <td>2196</td>\n",
       "      <td>5/8/2012</td>\n",
       "      <td>NaN</td>\n",
       "      <td>Mobko Ind e Com de Moveis</td>\n",
       "      <td>R$ 66.00</td>\n",
       "      <td>A - Ótimo</td>\n",
       "    </tr>\n",
       "    <tr>\n",
       "      <th>1337</th>\n",
       "      <td>1293.0</td>\n",
       "      <td>Quadro 380 x 380 etna YIWU</td>\n",
       "      <td>1.0</td>\n",
       "      <td>Restaurante</td>\n",
       "      <td>NaN</td>\n",
       "      <td>NaN</td>\n",
       "      <td>NaN</td>\n",
       "      <td>NaN</td>\n",
       "      <td>R$ 180.00</td>\n",
       "      <td>A-Otimo</td>\n",
       "    </tr>\n",
       "    <tr>\n",
       "      <th>30</th>\n",
       "      <td>31.0</td>\n",
       "      <td>Ar Condicionado Carrier tipo split Modelo 38XC...</td>\n",
       "      <td>1.0</td>\n",
       "      <td>Sala Panorâmica</td>\n",
       "      <td>2315</td>\n",
       "      <td>8/16/2012</td>\n",
       "      <td>NaN</td>\n",
       "      <td>Totaline</td>\n",
       "      <td>R$ 3569.27</td>\n",
       "      <td>A - Ótimo</td>\n",
       "    </tr>\n",
       "    <tr>\n",
       "      <th>250</th>\n",
       "      <td>251.0</td>\n",
       "      <td>Cadeira Universitaria Plastica Verde  A460x400...</td>\n",
       "      <td>1.0</td>\n",
       "      <td>Sala Verde 4</td>\n",
       "      <td>2196</td>\n",
       "      <td>5/8/2012</td>\n",
       "      <td>NaN</td>\n",
       "      <td>Mobko Ind e Com de Moveis</td>\n",
       "      <td>R$ 110.81</td>\n",
       "      <td>A - Ótimo</td>\n",
       "    </tr>\n",
       "    <tr>\n",
       "      <th>758</th>\n",
       "      <td>731.0</td>\n",
       "      <td>Kit Teclado e Mouse HP Modelo KG-1061</td>\n",
       "      <td>1.0</td>\n",
       "      <td>Informatica</td>\n",
       "      <td>Contrato 8870</td>\n",
       "      <td>NaN</td>\n",
       "      <td>NaN</td>\n",
       "      <td>JR Informática</td>\n",
       "      <td>R$ 0.00</td>\n",
       "      <td>A - Ótimo</td>\n",
       "    </tr>\n",
       "  </tbody>\n",
       "</table>\n",
       "</div>"
      ],
      "text/plain": [
       "      Nº do Patrimônio                                   Descrição do Bem  \\\n",
       "1421            1371.0  Cadeira Plastica Marrom L 460 x A 400\\ Encosto...   \n",
       "1337            1293.0                         Quadro 380 x 380 etna YIWU   \n",
       "30                31.0  Ar Condicionado Carrier tipo split Modelo 38XC...   \n",
       "250              251.0  Cadeira Universitaria Plastica Verde  A460x400...   \n",
       "758              731.0              Kit Teclado e Mouse HP Modelo KG-1061   \n",
       "\n",
       "      Quantidade      Localização Nº Nota Fiscal Data de Aquisição  \\\n",
       "1421         1.0  Hall Lanchonete           2196          5/8/2012   \n",
       "1337         1.0      Restaurante            NaN               NaN   \n",
       "30           1.0  Sala Panorâmica           2315         8/16/2012   \n",
       "250          1.0     Sala Verde 4           2196          5/8/2012   \n",
       "758          1.0      Informatica  Contrato 8870               NaN   \n",
       "\n",
       "     Data  de  Saída                 Fornecedor    Valor R$  \\\n",
       "1421             NaN  Mobko Ind e Com de Moveis    R$ 66.00   \n",
       "1337             NaN                        NaN   R$ 180.00   \n",
       "30               NaN                   Totaline  R$ 3569.27   \n",
       "250              NaN  Mobko Ind e Com de Moveis   R$ 110.81   \n",
       "758              NaN             JR Informática     R$ 0.00   \n",
       "\n",
       "     Grau de Depreciação  \n",
       "1421           A - Ótimo  \n",
       "1337             A-Otimo  \n",
       "30             A - Ótimo  \n",
       "250            A - Ótimo  \n",
       "758            A - Ótimo  "
      ]
     },
     "execution_count": 5,
     "metadata": {},
     "output_type": "execute_result"
    }
   ],
   "source": [
    "df.sample(5)"
   ]
  },
  {
   "cell_type": "markdown",
   "metadata": {},
   "source": [
    "### Gráfico de Quais locais possuem mais itens"
   ]
  },
  {
   "cell_type": "code",
   "execution_count": 9,
   "metadata": {},
   "outputs": [
    {
     "data": {
      "text/plain": [
       "<matplotlib.axes._subplots.AxesSubplot at 0x24b06650b00>"
      ]
     },
     "execution_count": 9,
     "metadata": {},
     "output_type": "execute_result"
    },
    {
     "data": {
      "image/png": "[encoded data removed]",
      "text/plain": [
       "<Figure size 720x720 with 1 Axes>"
      ]
     },
     "metadata": {
      "needs_background": "light"
     },
     "output_type": "display_data"
    }
   ],
   "source": [
    "df.groupby('Localização').size().sort_values().tail(10).plot(kind='barh', figsize=(10,10))"
   ]
  },
  {
   "cell_type": "markdown",
   "metadata": {},
   "source": [
    "#### Gráfico dos 10 Maiores Fornecedores"
   ]
  },
  {
   "cell_type": "code",
   "execution_count": 371,
   "metadata": {},
   "outputs": [
    {
     "data": {
      "text/plain": [
       "<matplotlib.axes._subplots.AxesSubplot at 0x2654be4d518>"
      ]
     },
     "execution_count": 371,
     "metadata": {},
     "output_type": "execute_result"
    },
    {
     "data": {
      "image/png": "[encoded data removed]",
      "text/plain": [
       "<Figure size 720x720 with 1 Axes>"
      ]
     },
     "metadata": {
      "needs_background": "light"
     },
     "output_type": "display_data"
    }
   ],
   "source": [
    "df.groupby('Fornecedor').size().sort_values().tail(10).plot(kind='barh', figsize=(10,10))"
   ]
  },
  {
   "cell_type": "code",
   "execution_count": 79,
   "metadata": {},
   "outputs": [
    {
     "data": {
      "text/plain": [
       "Nº do Patrimônio                   59\n",
       "Descrição do Bem          CPU Keylink\n",
       "Quantidade                          1\n",
       "Localização                  Recepção\n",
       "Nº Nota Fiscal          contrato 8478\n",
       "Data de Aquisição                 NaN\n",
       "Data  de  Saída                   NaN\n",
       "Fornecedor             JR Informática\n",
       "Valor R$                   R$ 2049.00\n",
       "Grau de Depreciação         A - Ótimo\n",
       "Name: 58, dtype: object"
      ]
     },
     "execution_count": 79,
     "metadata": {},
     "output_type": "execute_result"
    }
   ],
   "source": [
    "df.iloc[58]"
   ]
  }
 ],
 "metadata": {
  "kernelspec": {
   "display_name": "Python 3",
   "language": "python",
   "name": "python3"
  },
  "language_info": {
   "codemirror_mode": {
    "name": "ipython",
    "version": 3
   },
   "file_extension": ".py",
   "mimetype": "text/x-python",
   "name": "python",
   "nbconvert_exporter": "python",
   "pygments_lexer": "ipython3",
   "version": "3.7.3"
  }
 },
 "nbformat": 4,
 "nbformat_minor": 2
}
